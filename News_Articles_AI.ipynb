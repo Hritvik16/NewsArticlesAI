{
 "cells": [
  {
   "cell_type": "code",
   "execution_count": 10,
   "id": "bizarre-first",
   "metadata": {},
   "outputs": [],
   "source": [
    "import tensorflow as tf\n",
    "from tensorflow.keras.preprocessing.sequence import pad_sequences\n",
    "from tensorflow.keras.layers import Embedding, LSTM, Dense, Bidirectional\n",
    "from tensorflow.keras.preprocessing.text import Tokenizer\n",
    "from tensorflow.keras.models import Sequential\n",
    "from tensorflow.keras.optimizers import Adam\n",
    "import numpy as np \n",
    "\n",
    "\n",
    "import csv as csv"
   ]
  },
  {
   "cell_type": "code",
   "execution_count": 11,
   "id": "decimal-secretary",
   "metadata": {},
   "outputs": [
    {
     "name": "stdout",
     "output_type": "stream",
     "text": [
      "Total no. of rows: 1570\n",
      "[['firstpost', 'india', 'https://www.firstpost.com/india/supreme-court-in-anti-caa-blockade-case-says-there-cant-be-universal-policy-on-right-to-protest-8837421.html', 'FP Staff', 'September 21, 2020 20:11:56 IST', \"Supreme Court, in anti-CAA blockade case, says there can't be universal policy on right to protest - India News , Firstpost\", 'While listening to a batch of petitions against the anti-CAA protests in December, the top court said that the right to protest has to be balanced against acts like blocking of roads and the situation may vary from case to case.', 'The Supreme Court on Monday said there cannot be a \"universal policy\" on right to protest and possible curbs as the situation may vary from case to case.The apex court made the observation while reserving its verdict\\xa0on a batch of pleas against the anti-Citizenship Amendment Act (CAA) protests which led to blocking of a road in Shaheen Bagh in the National Capital last December.A bench consisting of justices SK Kaul, Aniruddha Bose, and Krishna Murari stated that the right to protest has to be balanced against other public rights such as the right to mobility.Restrictions had been imposed on the Kalindi Kunj-Shaheen Bagh stretch and the Okhla underpass, which were closed on 15 December due to the protests against the CAA and the National Register of Citizens (NRC).The protest site was however cleared in wake of the COVID-19 pandemic.\"There were some supervening circumstances which came into play and it was no one\\'s hand. God almighty itself intervened,\" PTI quoted the court as saying.According to Bar&Bench, Solicitor General Tushar Mehta said suggested that the petitions may not survive in light of the developments in the case, however, none of the petitioners, barring one agreed to withdraw their pleas.One of the petitioners, Amit Sahni,\\xa0said that these kind of protests should not be allowed in larger public interest.\"This was allowed to have continued for more than 100 days and people faced difficulty. This kind of incident should not have happened. Yesterday, there was \\'Chakka Jam\\' in Haryana. They have also called \\'Bharat Bandh\\' on\\xa024 and 25 September,\" he said.Advocate Mehmood Pracha, appearing for an intervenor, said that there was a right to peaceful protest and \"some people from a political party went there and created riots\".\"We have the right to protest. State machinery is not sacrosanct. Members of a political party went there with the police and created the situation,\" PTI quoted him as saying.Justice Bose said that the right to protest had to be balanced with the right of people to use a public road. \"For a long period of time, a public road was blocked. What about this right to use the road?\", LiveLaw quoted Bose as saying.When Pracha suggested that universal guidelines could be laid down for protests, the bench said:\\xa0\"We have to balance right to protest and the blocking of roads. We have to deal with the issue. There cannot be a universal policy as the situation may vary on a case-to-case basis.\"\"In a parliamentary democracy, protest can happen in Parliament and on roads but it has to be peaceful,\" it addedMehta, appearing for the Centre, said that the right to protest cannot be absolute and there are some judgements to this effect.Reserving its verdict, the bench said that it had appointed \"interlocutors\" in the Shaheen Bagh case as an experiment and they had suggested some measures which can be looked into.The top court had earlier heard the pleas, filed by Sahni, former BJP MLA Nand Kishore Garg and Ashutosh Dubey, against the anti-CAA protests at Shaheen Bagh.Sahni had earlier approached the high court seeking directions to Delhi Police to ensure smooth traffic flow on the Kalindi Kunj-Shaheen Bagh stretch, which was blocked by anti-CAA protesters on 15 December. The high court had urged local authorities to deal with the situation, keeping in mind the law and order situation.Sahni has filed a special leave petition in the apex court against the high court\\'s order. The plea sought directions to the police to ensure smooth flow of traffic on the Kalindi Kunj-Shaheen Bagh stretch.It also sought supervision of the situation in Shaheen Bagh, where several women were sitting in protest, by a retired Supreme Court judge or a sitting judge of the Delhi High Court in order to avoid any violence.Separately, Garg, through his counsel Shashank Deo Sudhi, had filed a petition in the Supreme Court seeking directions to authorities to remove the protestors from Shaheen Bagh.Garg\\'s plea claimed that various other arterial roads of Delhi have been facing traffic congestion due to the protest at Shaheen Bagh.Alleging that the law enforcement machinery has been \"held hostage to the whims and fancies of the protesters,\" the plea sought laying down of guidelines for protests which led to obstruction of public places.\"It is disappointing that the State machinery is muted and is a silent spectator to hooliganism and vandalism of the protesters, who are threatening the existential efficacy of the democracy and the rule of law and had already taken the law and order situation in their own hand,\" the plea said.The State has a duty to protect the fundamental rights of its citizens, who have been facing trouble due to the road blockade, the plea further said.\"Hence, it is urgently required that public places must not be allowed to be abused and misused for ulterior and mala fide purposes such as staging a protest against a constitutional amendment in the heart of the capital city and thereby causing incalculable hardships and difficulties to the common people,\" it said.According to LiveLaw, the petition filed by Dubey, however, stated that the protests could continue after the threat posed by the coronavirus pandemic was over.With inputs from PTI'], ['firstpost', 'india', 'https://www.firstpost.com/india/rti-reponse-reveals-over-18-lakh-ration-cards-applications-pending-in-up-56-8-requests-rejected-8831991.html', 'Sumit Chaturvedi', 'September 20, 2020 10:02:10 IST', 'RTI reponse reveals over 18 lakh ration cards applications pending in UP; 56.8% requests rejected - India News , Firstpost', 'The large backlog of pending ration card applications and the return of more than 30 lakh migrant workers to Uttar Pradesh during the COVID-19-induced lockdown is a worrying combination, especially when many have lost their means of livelihood', \"Lakhs of migrant workers who returned to their hometowns in Uttar Pradesh during the lockdown are eagerly waiting for their ration cards in order to avail subsidised food grains allocated under the Public Distribution System in this time of crisis under. An RTI reply has revealed the state has over 18 lakh ration card applications pending with a whopping 91.9 percent of them pending beyond the stipulated 30 days for approval.Uttar Pradesh has witnessed maximum number of migrant workers in the country with more than 31 lakhs having returned from other states during the lockdown, the state's chief secretary had informed on 4 June, 2020.On 12 May, 2020, Uttar Pradesh chief minister Yogi Adityanath had given specific directions that those in need and eligible for subsideised ration should be provided with ration cards, including migrant workers.Between late March when the lockdown was announced in India and the month of May, the state has reportedly issued more than 5.8 lakh ration cards. Yet, 18,84,537 (or 10.2 percent) of the total applications for new ration cards are pending in the state.In all, the state received 1,85,57,659 applications under the State e-Governance Service Delivery Gateway (SSDG) system run by the Food and Civil Supplies Department of Uttar Pradesh. This information has been provided by the department in response to an RTI application filed by this author.While the response from the department does not mention the time period in which these applications were received, the date mentioned for the data compiled by the department is 31 July, 2020.The author has enquired from the department regarding the time period for the applications received and the details are awaited.As per the RTI response, out of the total pending applications, only 1,58,251 or 8.1 percent are pending within the stipulated time period of 30 days for application approval, while 17,31,686 (or a whopping 91.9 percent) are those pending beyond 30 days.Of the total 1.86 crore applications received, the department has accepted 61,29,525 applications (or 33 percent) while 1,05,43,597 (or 56.8 percent) applications have been rejected.Over 30 lakh migrant workers have returned to Uttar Pradesh during Lockdown. APThe information released via RTI also gives a district-wise breakdown of the ration card applications as well. Out of total 75 districts in the state, the highest number of applications have been received in Sitapur district in Eastern Uttar Pradesh. The district also has the highest number of rejections.The least number of applicatios were received in Sonbhadra district in Western Uttar Pradesh. Sonbhadra also ranks lowest in terms of ration card applications approved, rejected as well as pending. Kanpur Nagar in central Uttar Pradesh has the highest number of applications awaiting approval.Among the four regions in Uttar Pradesh — Western, Eastern, Central and Bundelkhand — the highest average number of applications per district have been received in Central Uttar Pradesh while the least have been received in the Bundelkhand region.An analysis of the ration card applications processed by the Food and Civil Supplies Department as stated in the RTI response, revealed a strong positive correlation between the average gross domestic product (GDP) per district (as per the 2017-18 official data from Uttar Pradesh Directorate of Economics and Statistics) and the average number of applications received per district in each of the four regions.Analysis of total applications shows that the more is the average GDP per district of a particular region, the more are the average number of applications received, betraying the logic that people in wealthier regions are less reliant on PDS.However, an analysis of the total existing ration card holders in the four regions paints the opposite picture.There is a fairly strong negative correlation between the region-wise average GDP per district and the average existing ration card holders per district, respectively. What this means is that the more is the average GDP per district of the region, the lesser is the average number of ration card holders per district in each region.Table 1: Region-wise Ration Card StatisticsRegionsNumber of Applications ReceivedAverage Gross Net Product per District (Crores)Average Ration Cards per DistrictBundelkhand118317.48898.393473909.9Central UP368249.222130.62363557.7Eastern UP237428.312363.66504035.3Western UP250992.422034.79485337.2Source: UP Directorate of Economics and Statistics (for economic data); Food and Civil Supplies Department (for ration card data, accessed on 4 September 2020); RTI response (ration card applications)\\xa0As of 4 September, the total number of ration cards in the state stood at more than 3.58 crores with more than 3.17 crores priority households, which include both the Below Poverty Line (BPL) and Above Poverty Line (APL) households as per the National Food Security Act 2013 (NFSA). At the same time, there are more than 40.77 Antyodaya ration card holders in the state. On average, the highest number of average ration cards per district is found in the Eastern UP region followed by Western UP, Bundelkhand and Central UP.Table 2: Bundelkhand Region Ration Card Statistics and Economic PerformanceDistrictTotal ApplicationsAccepted applicationsRejected ApplicationsPending applications within time limit (30 days)Pending applications outside time limit (30 days)Total Pending ApplicationsGross Net Product (Crores)Per Capita Net ProductTotal Ration Card HoldersChitrakoot145623356509806068411229119136477.2356402443449Banda21074142474160492797697877757083.0536320199569Mahoba50560226701759612709024102948763.3589035421760Hamirpur9216656639273091054716482186507.1658109633554Jalaun8960951992217781938139011583910293.7656473583545Jhansi12649482794312002408100921250015551.2472827798358Lalitpur1130296354826323115122007231587612.9655083237134Total8282223557673827589302803958969762288.753317369Average per district118317.450823.8654679.711328.8571148512813.868898.39360607473909.9Source: UP Directorate of Economics and Statistics (for economic data); Food and Civil Supplies Department (for ration card data, accessed on 4 September 2020); RTI response (ration card applications)\\xa0Table 3: Central UP Ration Card Statistics and Economic PerformanceDistrictTotal ApplicationsAccepted applicationsRejected ApplicationsPending applications within time limit (30 days)Pending applications outside time limit (30 days)Total Pending ApplicationsGross Net Product (Crores)Per Capita Net ProductTotal Ration Card HoldersKanpur Dehat1380996799555169141813517149359992.7951963352372Kanpur Nagar399043241537719244329812538558239243.4282378199280Fatehpur338881639552539221743192612100413064.1946574334809Unnav2502781114001053914904285833348717038.4651135584509Khiri431264121447258333994504905148421974.1948188388536RaiBareily9858341579384631259172821854112213.6834227316428Lucknow304911182753796725211372754248647943.9791901311991Sitapur9266751899146721531787628216460820644.4640924564195Hardoi4265091669952306122717261852890217060.4537745219899Total33142431187575176563924362336667361029199175.63272019Average per district368249.2131952.8196182.12706.88937407.4440114.3322130.6253892.78363557.7Source: UP Directorate of Economics and Statistics (for economic data); Food and Civil Supplies Department (for ration card data, accessed on 4 September 2020); RTI response (ration card applications)\\xa0Table 4: Eastern UP Ration Card Statistics and Economic PerformanceDistrictTotal ApplicationsAccepted applicationsRejected ApplicationsPending applications within time limit (30 days)Pending applications outside time limit (30 days)Total Pending ApplicationsGross Net Product (Crores)Per Capita Net ProductTotal Ration Card HoldersAmethi45239320140265312146117738405.5947791714539Ambedkar Nagar34545482294245951150715702172098667.2933117664287Ayodhya461237948863462083745163982014311674.843292399409Barabanki374051772042672521447281482959515845.3443640356374Sultanpur772559429582149788634961211197.442920334067Azamgarh5508361994473033622416456114802716918.8133823643064Baliya227976128000661572733310863381910352.9829441795230Mau29110782601185468167421364230389152.8137872436367Kushinagar960702985908722921921221313730.7734363306180Gorakhpur9012425864313265052278823293421888.6845283296090Devariya5063371304953399761953339133586611180.5333789346098Maharaj Ganj653092317603094632220268310602.7635175498254Gonda335538774962214103139334933663213616.5735193222125Balrampur12105218650932161240794691866904.9827996781150Bahraich2388913232419788011867501868712722.9329038289100Shravasti1350603977887468507730778143546.5133604291100Kaushambi1710584291311070870016737174376909.9538434798639Pratapgarh6945162034404500131887391764106310087.1428929381160Prayagraj9103403455204950974645650786972341853.9863582315716Basti12557734505748092145141181626311089.0341248715567Sant Kabir Nagar8660310360699831608465262605013.6726421268593Siddharth Nagar14499223308104371243114882173138693.3529943769219Mirzapur34406516016331955119601291512313.96452601047308Sant Ravidas Nagar (Bhadoi)861661491954471147415302167767687.0545059557344Sonbhadra12053490109184560064513385.9662757415864Ghazipur211868487731421422131188222095312529.0831555206482Chandauli57627150433151912059860110657333.434307460611Jaunpur337488149142988283194205522374615243.9331682903771Varanasi5119130504047615506115766519996.8550153403315Total68854211769366453500052614528441581055358546.114617023Average per District237428.361012.62156379.31814.27618222.120036.3812363.6638471.28504035.3Source: UP Directorate of Economics and Statistics (for economic data); Food and Civil Supplies Department (for ration card data, accessed on 4 September 2020); RTI response (ration card applications)\\xa0Table 5: Western UP Ration Card Statistics and Economic PerformanceDistrictTotal ApplicationsAccepted applicationsRejected ApplicationsPending applications within time limit (30 days)Pending applications outside time limit (30 days)Total Pending ApplicationsGross Net Product (Crores)Per Capita Net ProductTotal Ration Card HoldersAligarh3651121726981545954079337403781923305.3256717259229Etah14844453213776751820157361755610822.2683490431559Kasganj1426414578677086168018089197691132372766788018Hathras1153165349244547790164871727710132.1159725204570Agra4275591335682243094761649216968245605.7792640698931Firozabad3050501078101654271218305953181314832.8753401592407Mathura999066036029125253078911042116595.6258251335848Mainpuri2040379731079163154826016275648939.3144149364692Etawah23353997894119388267713580162579772.8956657618970Auraiya21127161771134130149513875153706759.4145244511195Kannauj263445980351456401081186891977012089.6266506593468Farukkhabad238963116123105713128415843171279659.646497568433Pilibhit258909570571769071316236292494514143.0562038757539Badayun3163841037471810723179283863156517590.3643375251553Bareily7232471666084787283601743107791137186.7174683303296Shajahanpur5097081603763149523849305313438017451.7253272847013Ghaziabad232295124949632933765402884405335386.0281856182287Gautam Buddh Nagar88869529492063017711351915290118055.8595551497649Bulandshahar11712451632435662359195672192628360.973520310278Baghpat67678432321683212316383761410429.376048462169Meerut3753242218541080865135402494538441694.88113091379781Hapur2999912640113078265226605211781.8280574495408Amroha23406491400119399717225482326517935.5787153456104Bijnaur3724651306312016292699375064020526204.3965451556702Moradabad3533221142192023321212355593677121849.7461705501165Rampur863312822531447604260552665917952.1969222378520Sambhal12458659841363881543268142835710673.243427584125Muzzafarnagar3501581408421763152734302673300121530.0369219440017Shamli19712463109120719186511431132968864.8364864593340Saharanpur336903954461998003204384534165724115.3563264595851Total75297732816817386020066573786183852756661043.614560117Average per District250992.493893.9128673.32219.126206.128425.222034.7983811.87485337.2Source: UP Directorate of Economics and Statistics (for economic data); Food and Civil Supplies Department (for ration card data, accessed on 4 September 2020); RTI response (ration card applications)\\xa0Surprisingly, Bundelkhand, despite having the lowest average per district GDP, has received the lowest number of average applications for new ration cards per district. It should be noted that the region is widely perceived as underdeveloped and suffering from large scale hunger.In fact, Bundelkhand is the only region with a strong negative correlation between the per capita income of districts and the number of applications, ie, the more is the per capita income the lesser is the number of applications received in the districts of the region.Incidentally, Bundelkhand has had more per capita availability of food grains than the state average as observed between years 1997 and 2006 in the 2009 study on the region by AK Singh, A Joshi and Nomita P Kumar from the Giri Institute of Development Studies.Central Uttar Pradesh which includes important administrative and business districts such as Lucknow and Kanpur, though with the lowest average number of ration card holders per district in the state, has received maximum average number of applications per district.A large backlog of pending applications and the return of more than 30 lakh migrant workers is a worrying combination. Moreover, the pending applications also include those received before the current crisis. The introduction of new ration cards in the state in 2016 replacing the old ones had left many erstwhile ration card holders without one. These ration cards are also a prerequisite for availing benefits for many other schemes such as Ujjwala Gas Yojana (scheme).While the lockdown has spelled disaster for returning migrant workers, those eligible for ration cards who were already living here and have been hit hard by the suspension of economic activity also urgently need them. With slow resumption of economic activity many of the applicants, especially those belonging to the unorganised sector require immediate relief in form of ration allocated under the NFSA.\"], ['firstpost', 'india', 'https://www.firstpost.com/india/pilot-dies-as-four-seater-training-aircraft-crashes-in-uttar-pradeshs-azamgarh-8836691.html', 'Press Trust of India', 'September 21, 2020 15:32:17 IST', \"Pilot dies as four-seater training aircraft crashes in Uttar Pradesh's Azamgarh - India News , Firstpost\", 'The aircraft, which belonged to the Indira Gandhi Rashtriya Udan Akademi, crashed into an agricultural field in Kushaha Fariuddinpur village around 11.30 on Monday morning due to bad weather conditions', \"Azamgarh: A four-seater training aircraft crashed in Uttar Pradesh's Azamgarh on Monday, leaving its pilot dead, official sources said.The aircraft crashed into an agricultural field in Kushaha Fariuddinpur village under the Sarai Mir police station area around 11.30 am due to bad weather conditions, they said.The aircraft had taken off from a training institute and was being used by a trainee pilot, District Magistrate, Azamgarh, Rajesh Kumar said. There was only one person in the aircraft, he added.Sources said the aircraft belonged to the Centre-run flying-training institute Indira Gandhi Rashtriya Udan Akademi (IGRUA), located in Amethi.The Azamgarh Police said its personnel and senior officials were at the spot overseeing the rescue and relief operation.\"], ['firstpost', 'india', 'https://www.firstpost.com/india/hcl-technologies-to-acquire-australias-dws-ltd-for-rs-850-crore-shares-up-by-4-01-on-bse-8836131.html', 'Press Trust of India', 'September 21, 2020 14:15:16 IST', 'HCL Technologies to acquire Australia’s DWS Ltd for Rs 850 crore; shares up by 4.01% on BSE - India News , Firstpost', 'DWS, with FY20 revenue at AUS $167.9 million, has over 700 employees and offices in Melbourne, Sydney, Adelaide, Brisbane, and Canberra', 'New Delhi: HCL Technologies on Monday said it will acquire Australian IT solutions firm DWS Ltd, a move that will help the Indian company strengthen its position in the Australia and New Zealand market.In a regulatory filing, HCL Technologies said the total equity value pay-out will be 158.2 million Australian dollars (about Rs 850.33 crore) after considering a total number of shares at 131.83 million on a fully diluted basis.The shareholders of DWS will also get a dividend of 0.03 Australian dollars per share which was declared by the company in its recent announcement of Annual Corporate Earnings for FY20 (June-end), it added.\"The acquisition of DWS will strongly enhance HCL\\'s contribution to digital initiatives in Australia and New Zealand while strengthening HCL\\'s client portfolio across key industries,\" HCL said in a statement.The filing said acquisition will be done by a process of Scheme of Arrangement to be approved by the court(s) in Australia, and the deal will also be subject to the approvals of Australia\\'s Foreign Investment Review Board, Australian Competition Commission and New Zealand\\'s Overseas Investment Office.Besides, the transaction - being done by HCL Australia Services Pty Ltd (wholly owned step-down subsidiary of HCL Technologies) - will also require an approval of DWS shareholders, it added.The acquisition is expected to close in December 2020 after regulatory approvals.DWS has over 700 employees and offices in Melbourne, Sydney, Adelaide, Brisbane, and Canberra. With FY20 revenue at 167.9 million Australian dollars, the company provides a wide range of IT services, including digital transformation, application development and support, program and project management and consulting.\"This acquisition represents an outstanding outcome for all DWS stakeholders: shareholders, employees, clients and other business partners,\" Danny Wallis, CEO and Managing Director of DWS, said.HCL Technologies currently employs 1,600 people in major cities, including Canberra, Sydney, Melbourne, Brisbane, and Perth.\"We are excited for this expansion of HCL Technologies in Australia and New Zealand and are confident that our combined strengths will further accelerate the digital transformation journeys of our clients and innovations for their end customers,\" HCL Technologies Executive Vice President and Country Manager, Australia and New Zealand Michael Horton said.He added that HCL has invested in the region for over 20 years and is committed to enabling digitalisation and growing the local ecosystem.Shares of HCL Technologies were trading at Rs 843.65, up 4.01 percent on the BSE.'], ['firstpost', 'india', 'https://www.firstpost.com/india/parliament-monsoon-session-2020-live-updates-lok-sabha-rajya-sabha-latest-news-today-day-9-farm-bills-essential-commodities-bill-nirmala-sitharaman-bjp-congress-tmc-harivansh-singh-8838731.html', 'FP Staff', 'September 22, 2020 10:42:06 IST', 'Parliament LIVE Updates: Pralhad Joshi says govt not bent on keeping suspended MPs out of RS; Congress stages walkout - India News , Firstpost', 'Parliament LIVE Updates: Parliamentary Affair minister Pralhad Joshi said many leaders have asked him to finish the proceedings of the House quickly, owing to the pandemic. He added that the government is not hellbent upon keeping the suspended MPs out of the House', 'Parliament LATEST Updates: Parliamentary Affair minister Pralhad Joshi said many leaders have asked him to finish the proceedings of the House quickly, owing to the pandemic. He added, \"The government is not hellbent upon keeping the suspended MPs out of the House. If they express regret, the government will look into it.\"Leader of Opposition Ghulam Nabi Azad said no one is happy with what transpired in the House over the past two days. \"We fight for each minute in the House like it\\'s a fight at the border. If we go beyond time restrictions, things will be de-escalated 90 percent,\" he said.Deputy Chairman of Rajya Sabha Harivansh Singh met the eight MPs, who were suspended for unruly behaviour during the debate on two farm bills on Sunday and have been protesting in the Parliament Complex.The Rajya Sabha will continue discussion on the\\xa0The Indian Institutes\\xa0of Information\\xa0Technology Laws\\xa0(Amendment) Bill,\\xa02020, which could not be conducted on Monday even as protests were witnessed in the Opposition Benches over the suspension of eight MPs.The House will also see the introduction of\\xa0The Essential\\xa0Commodities\\xa0(Amendment) Bill,\\xa02020, a proposed legislation that has been in contention along with the two farm Bills that have led to protests in the PArliament ever since their introduction in the Lok Sabha last week.Finance Minister Nirmala Sitharaman will move motions for the consideration and passage of The BankingRegulation\\xa0(Amendment) Bill,\\xa02020,\\xa0The Companies\\xa0(Amendment) Bill,\\xa02020,\\xa0The Taxation and\\xa0Other Laws (Relaxation\\xa0and Amendment of\\xa0Certain Provisions)\\xa0Bill, 2020,\\xa0The Appropriation\\xa0(No.3) Bill, 2020 and\\xa0The Appropriation\\xa0(No.4) Bill, 2020.Other proposed legislations on the Rajya Sabha\\'s List of Business are The National Forensic\\xa0Sciences University\\xa0Bill, 2020 and\\xa0The Rashtriya Raksha\\xa0University Bill, 2020.Meanwhile, according to Lok Sabha\\'s List of Business, consideration and passage of The\\xa0Occupational\\xa0Safety, Health\\xa0And Working\\xa0Conditions\\xa0Code, 2020,\\xa0The Industrial\\xa0Relations Code,\\xa02020,\\xa0The Code On\\xa0Social Security,\\xa02020 and\\xa0The Factoring\\xa0Regulation\\xa0(Amendment)\\xa0Bill, 2020 are on the agenda.The sit-in protest in front of the Parliament Complex\\'s Gandhi statue by eight suspended MPs on Monday continued past midnight. Senior opposition leaders, including NC leader Faroukh Abdullah, JD(S)\\' HD Deve Gowda, Samajwadi Party\\'s Jaya Bachchan, Congress’ Ahmed Patel and NCP\\'s Praful Patel, paid a visit to the MPs.After witnessing ruckus despite reconvening after the fifth adjournment for the day on Monday, the Rajya Sabha was adjourned till Tuesday, even as eight suspended MPs refused to leave the House. They were suspended by Chairman Venkaiah Naidu for unruly behaviour, who also dismissed the no-confidence motion against deputy chairman Harivansh Singh.The Lok Sabha\\xa0passed Homoeopathy Central Council (Amendment) Bill, 2020, and Indian Medicine Central Council (Amendment) Bill, 2020 in proceedings that continued past midnight.These Bills were moved for passage after the House passed the Epidemic Diseases (Amendment) Bill, 2020 that seeks to bring a law that punishes those who attack health workers or doctors who are fighting the coronavirus outbreak or during any situation similar to the current COVID-19 pandemic.\\xa0The Lower House also passed the FCRA Amendment Bill, 2020.']]\n",
      "['source', 'category', 'link', 'author', 'published_at', 'header', 'subheader', 'content']\n"
     ]
    }
   ],
   "source": [
    "filename = \"historic_articles.csv\"\n",
    "fields = [] \n",
    "rows = [] \n",
    "with open(filename, 'r') as csvfile: \n",
    "    # creating a csv reader object \n",
    "    csvreader = csv.reader(csvfile) \n",
    "      \n",
    "    # extracting field names through first row \n",
    "    fields = next(csvreader) \n",
    "      \n",
    "    # extracting each data row one by one \n",
    "    for row in csvreader: \n",
    "        rows.append(row) \n",
    "  \n",
    "    # get total number of rows \n",
    "    print(\"Total no. of rows: %d\"%(csvreader.line_num)) \n",
    "    \n",
    "#rows\n",
    "print(rows[0:5])\n",
    "\n",
    "#fields\n",
    "print(fields)"
   ]
  },
  {
   "cell_type": "code",
   "execution_count": 12,
   "id": "sound-stockholm",
   "metadata": {},
   "outputs": [],
   "source": [
    "type_to_article = {}\n",
    "for row in rows:\n",
    "    if row[1] not in type_to_article:\n",
    "        type_to_article[row[1]] = row[5] + \" \\n \" + row[6] + \" \\n \" + row[7]        \n",
    "    else:\n",
    "        type_to_article[row[1]] += row[5] + \" \\n \" + row[6] + \" \\n \" + row[7]"
   ]
  },
  {
   "cell_type": "code",
   "execution_count": 13,
   "id": "starting-brother",
   "metadata": {},
   "outputs": [
    {
     "name": "stdout",
     "output_type": "stream",
     "text": [
      "17200\n"
     ]
    }
   ],
   "source": [
    "tokenizer = Tokenizer() #instantiating the tokenizer\n",
    "data = type_to_article['india']\n",
    "corpus = data.lower().split(\"\\n\") #converting the sentence to lowercase\n",
    "tokenizer.fit_on_texts(corpus) #creates tokens for each words \n",
    "total_words = len(tokenizer.word_index) + 1 #calculating total number of words in the initial sentence\n",
    "print(total_words)"
   ]
  },
  {
   "cell_type": "code",
   "execution_count": 14,
   "id": "nervous-rendering",
   "metadata": {},
   "outputs": [
    {
     "name": "stdout",
     "output_type": "stream",
     "text": [
      "[[328, 48], [328, 48, 5], [328, 48, 5, 387], [328, 48, 5, 387, 619], [328, 48, 5, 387, 619, 4254]]\n"
     ]
    }
   ],
   "source": [
    "input_sequences = [] #training features (x) will be a list\n",
    "\n",
    "for line in corpus:\n",
    "\ttoken_list = tokenizer.texts_to_sequences([line])[0] #converts each sentence as its tokenized equivalent\n",
    "\tfor i in range(1, len(token_list)):\n",
    "\t\tn_gram_sequence = token_list[:i+1] #generating n gram sequences\n",
    "\t\tinput_sequences.append(n_gram_sequence) #appending each n gram sequence to the list of our features (xs)\n",
    "print(input_sequences[:5])"
   ]
  },
  {
   "cell_type": "code",
   "execution_count": 16,
   "id": "minimal-allah",
   "metadata": {
    "scrolled": true
   },
   "outputs": [],
   "source": [
    "max_sequence_len = max([len(x) for x in input_sequences]) #calculating the length of the longest sequence\n",
    "input_sequences = np.array(pad_sequences(input_sequences, maxlen=max_sequence_len, padding='pre')) #pre-pading each value of the input_sequence\n",
    "xs, labels = input_sequences[:,:-1],input_sequences[:,-1] #creating xs and their labels using numpy slicing\n",
    "ys = tf.keras.utils.to_categorical(labels, num_classes=total_words) #creating one hot encoding values"
   ]
  },
  {
   "cell_type": "code",
   "execution_count": 17,
   "id": "backed-silence",
   "metadata": {},
   "outputs": [],
   "source": [
    "model = Sequential() #creating a sequential model\n",
    "model.add(Embedding(total_words, 64, input_length=max_sequence_len-1)) #adding an embedding layer with 64 as the embedding dimension\n",
    "model.add(Bidirectional(LSTM(20))) #adding 20 LSTM units\n",
    "model.add(Dense(total_words, activation='softmax')) #creating a dense layer with 54 output units (total_words) with softmax activation"
   ]
  },
  {
   "cell_type": "code",
   "execution_count": 18,
   "id": "split-visibility",
   "metadata": {},
   "outputs": [
    {
     "name": "stdout",
     "output_type": "stream",
     "text": [
      "Epoch 1/500\n",
      "7498/7498 [==============================] - 28635s 4s/step - loss: 7.3925 - accuracy: 0.0770\n",
      "Epoch 2/500\n",
      "2342/7498 [========>.....................] - ETA: 5:22:19 - loss: 6.5164 - accuracy: 0.1223"
     ]
    },
    {
     "ename": "KeyboardInterrupt",
     "evalue": "",
     "output_type": "error",
     "traceback": [
      "\u001b[0;31m---------------------------------------------------------------------------\u001b[0m",
      "\u001b[0;31mKeyboardInterrupt\u001b[0m                         Traceback (most recent call last)",
      "\u001b[0;32m<ipython-input-18-718f742f3a9c>\u001b[0m in \u001b[0;36m<module>\u001b[0;34m\u001b[0m\n\u001b[1;32m      1\u001b[0m \u001b[0mmodel\u001b[0m\u001b[0;34m.\u001b[0m\u001b[0mcompile\u001b[0m\u001b[0;34m(\u001b[0m\u001b[0mloss\u001b[0m\u001b[0;34m=\u001b[0m\u001b[0;34m'categorical_crossentropy'\u001b[0m\u001b[0;34m,\u001b[0m \u001b[0moptimizer\u001b[0m\u001b[0;34m=\u001b[0m\u001b[0;34m'adam'\u001b[0m\u001b[0;34m,\u001b[0m \u001b[0mmetrics\u001b[0m\u001b[0;34m=\u001b[0m\u001b[0;34m[\u001b[0m\u001b[0;34m'accuracy'\u001b[0m\u001b[0;34m]\u001b[0m\u001b[0;34m)\u001b[0m \u001b[0;31m#compiling the model with adam optimiser\u001b[0m\u001b[0;34m\u001b[0m\u001b[0;34m\u001b[0m\u001b[0m\n\u001b[0;32m----> 2\u001b[0;31m \u001b[0mhistory\u001b[0m \u001b[0;34m=\u001b[0m \u001b[0mmodel\u001b[0m\u001b[0;34m.\u001b[0m\u001b[0mfit\u001b[0m\u001b[0;34m(\u001b[0m\u001b[0mxs\u001b[0m\u001b[0;34m,\u001b[0m \u001b[0mys\u001b[0m\u001b[0;34m,\u001b[0m \u001b[0mepochs\u001b[0m\u001b[0;34m=\u001b[0m\u001b[0;36m500\u001b[0m\u001b[0;34m,\u001b[0m \u001b[0mverbose\u001b[0m\u001b[0;34m=\u001b[0m\u001b[0;36m1\u001b[0m\u001b[0;34m)\u001b[0m \u001b[0;31m#training for 500 epochs\u001b[0m\u001b[0;34m\u001b[0m\u001b[0;34m\u001b[0m\u001b[0m\n\u001b[0m",
      "\u001b[0;32m~/.local/lib/python3.8/site-packages/tensorflow/python/keras/engine/training.py\u001b[0m in \u001b[0;36mfit\u001b[0;34m(self, x, y, batch_size, epochs, verbose, callbacks, validation_split, validation_data, shuffle, class_weight, sample_weight, initial_epoch, steps_per_epoch, validation_steps, validation_batch_size, validation_freq, max_queue_size, workers, use_multiprocessing)\u001b[0m\n\u001b[1;32m   1098\u001b[0m                 _r=1):\n\u001b[1;32m   1099\u001b[0m               \u001b[0mcallbacks\u001b[0m\u001b[0;34m.\u001b[0m\u001b[0mon_train_batch_begin\u001b[0m\u001b[0;34m(\u001b[0m\u001b[0mstep\u001b[0m\u001b[0;34m)\u001b[0m\u001b[0;34m\u001b[0m\u001b[0;34m\u001b[0m\u001b[0m\n\u001b[0;32m-> 1100\u001b[0;31m               \u001b[0mtmp_logs\u001b[0m \u001b[0;34m=\u001b[0m \u001b[0mself\u001b[0m\u001b[0;34m.\u001b[0m\u001b[0mtrain_function\u001b[0m\u001b[0;34m(\u001b[0m\u001b[0miterator\u001b[0m\u001b[0;34m)\u001b[0m\u001b[0;34m\u001b[0m\u001b[0;34m\u001b[0m\u001b[0m\n\u001b[0m\u001b[1;32m   1101\u001b[0m               \u001b[0;32mif\u001b[0m \u001b[0mdata_handler\u001b[0m\u001b[0;34m.\u001b[0m\u001b[0mshould_sync\u001b[0m\u001b[0;34m:\u001b[0m\u001b[0;34m\u001b[0m\u001b[0;34m\u001b[0m\u001b[0m\n\u001b[1;32m   1102\u001b[0m                 \u001b[0mcontext\u001b[0m\u001b[0;34m.\u001b[0m\u001b[0masync_wait\u001b[0m\u001b[0;34m(\u001b[0m\u001b[0;34m)\u001b[0m\u001b[0;34m\u001b[0m\u001b[0;34m\u001b[0m\u001b[0m\n",
      "\u001b[0;32m~/.local/lib/python3.8/site-packages/tensorflow/python/eager/def_function.py\u001b[0m in \u001b[0;36m__call__\u001b[0;34m(self, *args, **kwds)\u001b[0m\n\u001b[1;32m    826\u001b[0m     \u001b[0mtracing_count\u001b[0m \u001b[0;34m=\u001b[0m \u001b[0mself\u001b[0m\u001b[0;34m.\u001b[0m\u001b[0mexperimental_get_tracing_count\u001b[0m\u001b[0;34m(\u001b[0m\u001b[0;34m)\u001b[0m\u001b[0;34m\u001b[0m\u001b[0;34m\u001b[0m\u001b[0m\n\u001b[1;32m    827\u001b[0m     \u001b[0;32mwith\u001b[0m \u001b[0mtrace\u001b[0m\u001b[0;34m.\u001b[0m\u001b[0mTrace\u001b[0m\u001b[0;34m(\u001b[0m\u001b[0mself\u001b[0m\u001b[0;34m.\u001b[0m\u001b[0m_name\u001b[0m\u001b[0;34m)\u001b[0m \u001b[0;32mas\u001b[0m \u001b[0mtm\u001b[0m\u001b[0;34m:\u001b[0m\u001b[0;34m\u001b[0m\u001b[0;34m\u001b[0m\u001b[0m\n\u001b[0;32m--> 828\u001b[0;31m       \u001b[0mresult\u001b[0m \u001b[0;34m=\u001b[0m \u001b[0mself\u001b[0m\u001b[0;34m.\u001b[0m\u001b[0m_call\u001b[0m\u001b[0;34m(\u001b[0m\u001b[0;34m*\u001b[0m\u001b[0margs\u001b[0m\u001b[0;34m,\u001b[0m \u001b[0;34m**\u001b[0m\u001b[0mkwds\u001b[0m\u001b[0;34m)\u001b[0m\u001b[0;34m\u001b[0m\u001b[0;34m\u001b[0m\u001b[0m\n\u001b[0m\u001b[1;32m    829\u001b[0m       \u001b[0mcompiler\u001b[0m \u001b[0;34m=\u001b[0m \u001b[0;34m\"xla\"\u001b[0m \u001b[0;32mif\u001b[0m \u001b[0mself\u001b[0m\u001b[0;34m.\u001b[0m\u001b[0m_experimental_compile\u001b[0m \u001b[0;32melse\u001b[0m \u001b[0;34m\"nonXla\"\u001b[0m\u001b[0;34m\u001b[0m\u001b[0;34m\u001b[0m\u001b[0m\n\u001b[1;32m    830\u001b[0m       \u001b[0mnew_tracing_count\u001b[0m \u001b[0;34m=\u001b[0m \u001b[0mself\u001b[0m\u001b[0;34m.\u001b[0m\u001b[0mexperimental_get_tracing_count\u001b[0m\u001b[0;34m(\u001b[0m\u001b[0;34m)\u001b[0m\u001b[0;34m\u001b[0m\u001b[0;34m\u001b[0m\u001b[0m\n",
      "\u001b[0;32m~/.local/lib/python3.8/site-packages/tensorflow/python/eager/def_function.py\u001b[0m in \u001b[0;36m_call\u001b[0;34m(self, *args, **kwds)\u001b[0m\n\u001b[1;32m    853\u001b[0m       \u001b[0;31m# In this case we have created variables on the first call, so we run the\u001b[0m\u001b[0;34m\u001b[0m\u001b[0;34m\u001b[0m\u001b[0;34m\u001b[0m\u001b[0m\n\u001b[1;32m    854\u001b[0m       \u001b[0;31m# defunned version which is guaranteed to never create variables.\u001b[0m\u001b[0;34m\u001b[0m\u001b[0;34m\u001b[0m\u001b[0;34m\u001b[0m\u001b[0m\n\u001b[0;32m--> 855\u001b[0;31m       \u001b[0;32mreturn\u001b[0m \u001b[0mself\u001b[0m\u001b[0;34m.\u001b[0m\u001b[0m_stateless_fn\u001b[0m\u001b[0;34m(\u001b[0m\u001b[0;34m*\u001b[0m\u001b[0margs\u001b[0m\u001b[0;34m,\u001b[0m \u001b[0;34m**\u001b[0m\u001b[0mkwds\u001b[0m\u001b[0;34m)\u001b[0m  \u001b[0;31m# pylint: disable=not-callable\u001b[0m\u001b[0;34m\u001b[0m\u001b[0;34m\u001b[0m\u001b[0m\n\u001b[0m\u001b[1;32m    856\u001b[0m     \u001b[0;32melif\u001b[0m \u001b[0mself\u001b[0m\u001b[0;34m.\u001b[0m\u001b[0m_stateful_fn\u001b[0m \u001b[0;32mis\u001b[0m \u001b[0;32mnot\u001b[0m \u001b[0;32mNone\u001b[0m\u001b[0;34m:\u001b[0m\u001b[0;34m\u001b[0m\u001b[0;34m\u001b[0m\u001b[0m\n\u001b[1;32m    857\u001b[0m       \u001b[0;31m# Release the lock early so that multiple threads can perform the call\u001b[0m\u001b[0;34m\u001b[0m\u001b[0;34m\u001b[0m\u001b[0;34m\u001b[0m\u001b[0m\n",
      "\u001b[0;32m~/.local/lib/python3.8/site-packages/tensorflow/python/eager/function.py\u001b[0m in \u001b[0;36m__call__\u001b[0;34m(self, *args, **kwargs)\u001b[0m\n\u001b[1;32m   2940\u001b[0m       (graph_function,\n\u001b[1;32m   2941\u001b[0m        filtered_flat_args) = self._maybe_define_function(args, kwargs)\n\u001b[0;32m-> 2942\u001b[0;31m     return graph_function._call_flat(\n\u001b[0m\u001b[1;32m   2943\u001b[0m         filtered_flat_args, captured_inputs=graph_function.captured_inputs)  # pylint: disable=protected-access\n\u001b[1;32m   2944\u001b[0m \u001b[0;34m\u001b[0m\u001b[0m\n",
      "\u001b[0;32m~/.local/lib/python3.8/site-packages/tensorflow/python/eager/function.py\u001b[0m in \u001b[0;36m_call_flat\u001b[0;34m(self, args, captured_inputs, cancellation_manager)\u001b[0m\n\u001b[1;32m   1916\u001b[0m         and executing_eagerly):\n\u001b[1;32m   1917\u001b[0m       \u001b[0;31m# No tape is watching; skip to running the function.\u001b[0m\u001b[0;34m\u001b[0m\u001b[0;34m\u001b[0m\u001b[0;34m\u001b[0m\u001b[0m\n\u001b[0;32m-> 1918\u001b[0;31m       return self._build_call_outputs(self._inference_function.call(\n\u001b[0m\u001b[1;32m   1919\u001b[0m           ctx, args, cancellation_manager=cancellation_manager))\n\u001b[1;32m   1920\u001b[0m     forward_backward = self._select_forward_and_backward_functions(\n",
      "\u001b[0;32m~/.local/lib/python3.8/site-packages/tensorflow/python/eager/function.py\u001b[0m in \u001b[0;36mcall\u001b[0;34m(self, ctx, args, cancellation_manager)\u001b[0m\n\u001b[1;32m    553\u001b[0m       \u001b[0;32mwith\u001b[0m \u001b[0m_InterpolateFunctionError\u001b[0m\u001b[0;34m(\u001b[0m\u001b[0mself\u001b[0m\u001b[0;34m)\u001b[0m\u001b[0;34m:\u001b[0m\u001b[0;34m\u001b[0m\u001b[0;34m\u001b[0m\u001b[0m\n\u001b[1;32m    554\u001b[0m         \u001b[0;32mif\u001b[0m \u001b[0mcancellation_manager\u001b[0m \u001b[0;32mis\u001b[0m \u001b[0;32mNone\u001b[0m\u001b[0;34m:\u001b[0m\u001b[0;34m\u001b[0m\u001b[0;34m\u001b[0m\u001b[0m\n\u001b[0;32m--> 555\u001b[0;31m           outputs = execute.execute(\n\u001b[0m\u001b[1;32m    556\u001b[0m               \u001b[0mstr\u001b[0m\u001b[0;34m(\u001b[0m\u001b[0mself\u001b[0m\u001b[0;34m.\u001b[0m\u001b[0msignature\u001b[0m\u001b[0;34m.\u001b[0m\u001b[0mname\u001b[0m\u001b[0;34m)\u001b[0m\u001b[0;34m,\u001b[0m\u001b[0;34m\u001b[0m\u001b[0;34m\u001b[0m\u001b[0m\n\u001b[1;32m    557\u001b[0m               \u001b[0mnum_outputs\u001b[0m\u001b[0;34m=\u001b[0m\u001b[0mself\u001b[0m\u001b[0;34m.\u001b[0m\u001b[0m_num_outputs\u001b[0m\u001b[0;34m,\u001b[0m\u001b[0;34m\u001b[0m\u001b[0;34m\u001b[0m\u001b[0m\n",
      "\u001b[0;32m~/.local/lib/python3.8/site-packages/tensorflow/python/eager/execute.py\u001b[0m in \u001b[0;36mquick_execute\u001b[0;34m(op_name, num_outputs, inputs, attrs, ctx, name)\u001b[0m\n\u001b[1;32m     57\u001b[0m   \u001b[0;32mtry\u001b[0m\u001b[0;34m:\u001b[0m\u001b[0;34m\u001b[0m\u001b[0;34m\u001b[0m\u001b[0m\n\u001b[1;32m     58\u001b[0m     \u001b[0mctx\u001b[0m\u001b[0;34m.\u001b[0m\u001b[0mensure_initialized\u001b[0m\u001b[0;34m(\u001b[0m\u001b[0;34m)\u001b[0m\u001b[0;34m\u001b[0m\u001b[0;34m\u001b[0m\u001b[0m\n\u001b[0;32m---> 59\u001b[0;31m     tensors = pywrap_tfe.TFE_Py_Execute(ctx._handle, device_name, op_name,\n\u001b[0m\u001b[1;32m     60\u001b[0m                                         inputs, attrs, num_outputs)\n\u001b[1;32m     61\u001b[0m   \u001b[0;32mexcept\u001b[0m \u001b[0mcore\u001b[0m\u001b[0;34m.\u001b[0m\u001b[0m_NotOkStatusException\u001b[0m \u001b[0;32mas\u001b[0m \u001b[0me\u001b[0m\u001b[0;34m:\u001b[0m\u001b[0;34m\u001b[0m\u001b[0;34m\u001b[0m\u001b[0m\n",
      "\u001b[0;31mKeyboardInterrupt\u001b[0m: "
     ]
    }
   ],
   "source": [
    "model.compile(loss='categorical_crossentropy', optimizer='adam', metrics=['accuracy']) #compiling the model with adam optimiser\n",
    "history = model.fit(xs, ys, epochs=500, verbose=1) #training for 500 epochs"
   ]
  },
  {
   "cell_type": "code",
   "execution_count": null,
   "id": "practical-address",
   "metadata": {},
   "outputs": [],
   "source": [
    "#predicting the next word using an initial sentence\n",
    "input_phrase = \"hello\"\n",
    "next_words = 5\n",
    "  \n",
    "for _ in range(next_words):\n",
    "\ttoken_list = tokenizer.texts_to_sequences([input_phrase])[0] #converting our input_phrase to tokens and excluding the out of vcabulary words\n",
    "\ttoken_list = pad_sequences([token_list], maxlen=max_sequence_len-1, padding='pre') #padding the input_phrase\n",
    "\tpredicted = model.predict_classes(token_list, verbose=0) #predicting the token of the next word using our trained model\n",
    "\toutput_word = \"\" #initialising output word as blank at the beginning\n",
    "\tfor word, index in tokenizer.word_index.items():\n",
    "\t\tif index == predicted:\n",
    "\t\t\toutput_word = word #converting the token back to the corresponding word and storing it in the output_word\n",
    "\t\t\tbreak\n",
    "\tinput_phrase += \" \" + output_word\n",
    "print(input_phrase)"
   ]
  }
 ],
 "metadata": {
  "kernelspec": {
   "display_name": "Python 3",
   "language": "python",
   "name": "python3"
  },
  "language_info": {
   "codemirror_mode": {
    "name": "ipython",
    "version": 3
   },
   "file_extension": ".py",
   "mimetype": "text/x-python",
   "name": "python",
   "nbconvert_exporter": "python",
   "pygments_lexer": "ipython3",
   "version": "3.8.5"
  }
 },
 "nbformat": 4,
 "nbformat_minor": 5
}
